{
 "cells": [
  {
   "cell_type": "markdown",
   "id": "f9a2e2d0",
   "metadata": {},
   "source": [
    "# Valores Faltantes\n",
    "\n",
    "Se definen como valores / datos no disponibles para ciertas observaciones en una variable que serían útiles para el análisis de los resultados."
   ]
  },
  {
   "cell_type": "markdown",
   "id": "17fc13e5",
   "metadata": {},
   "source": [
    "- Aprenderemos como detectar y cuantificar valores faltantes Usaremos los datos de Titanic y loan\n"
   ]
  },
  {
   "cell_type": "code",
   "execution_count": 1,
   "id": "03f2b58b",
   "metadata": {},
   "outputs": [],
   "source": [
    "#Cargamos librerías\n",
    "import pandas as pd\n",
    "import numpy as np\n",
    "import matplotlib.pyplot as plt"
   ]
  },
  {
   "cell_type": "code",
   "execution_count": 3,
   "id": "01739f8e",
   "metadata": {},
   "outputs": [
    {
     "data": {
      "text/html": [
       "<div>\n",
       "<style scoped>\n",
       "    .dataframe tbody tr th:only-of-type {\n",
       "        vertical-align: middle;\n",
       "    }\n",
       "\n",
       "    .dataframe tbody tr th {\n",
       "        vertical-align: top;\n",
       "    }\n",
       "\n",
       "    .dataframe thead th {\n",
       "        text-align: right;\n",
       "    }\n",
       "</style>\n",
       "<table border=\"1\" class=\"dataframe\">\n",
       "  <thead>\n",
       "    <tr style=\"text-align: right;\">\n",
       "      <th></th>\n",
       "      <th>pclass</th>\n",
       "      <th>survived</th>\n",
       "      <th>name</th>\n",
       "      <th>sex</th>\n",
       "      <th>age</th>\n",
       "      <th>sibsp</th>\n",
       "      <th>parch</th>\n",
       "      <th>ticket</th>\n",
       "      <th>fare</th>\n",
       "      <th>cabin</th>\n",
       "      <th>embarked</th>\n",
       "      <th>boat</th>\n",
       "      <th>body</th>\n",
       "      <th>home.dest</th>\n",
       "    </tr>\n",
       "  </thead>\n",
       "  <tbody>\n",
       "    <tr>\n",
       "      <th>0</th>\n",
       "      <td>1</td>\n",
       "      <td>1</td>\n",
       "      <td>Allen, Miss. Elisabeth Walton</td>\n",
       "      <td>female</td>\n",
       "      <td>29.0000</td>\n",
       "      <td>0</td>\n",
       "      <td>0</td>\n",
       "      <td>24160</td>\n",
       "      <td>211.3375</td>\n",
       "      <td>B5</td>\n",
       "      <td>S</td>\n",
       "      <td>2</td>\n",
       "      <td>NaN</td>\n",
       "      <td>St Louis, MO</td>\n",
       "    </tr>\n",
       "    <tr>\n",
       "      <th>1</th>\n",
       "      <td>1</td>\n",
       "      <td>1</td>\n",
       "      <td>Allison, Master. Hudson Trevor</td>\n",
       "      <td>male</td>\n",
       "      <td>0.9167</td>\n",
       "      <td>1</td>\n",
       "      <td>2</td>\n",
       "      <td>113781</td>\n",
       "      <td>151.5500</td>\n",
       "      <td>C22</td>\n",
       "      <td>S</td>\n",
       "      <td>11</td>\n",
       "      <td>NaN</td>\n",
       "      <td>Montreal, PQ / Chesterville, ON</td>\n",
       "    </tr>\n",
       "    <tr>\n",
       "      <th>2</th>\n",
       "      <td>1</td>\n",
       "      <td>0</td>\n",
       "      <td>Allison, Miss. Helen Loraine</td>\n",
       "      <td>female</td>\n",
       "      <td>2.0000</td>\n",
       "      <td>1</td>\n",
       "      <td>2</td>\n",
       "      <td>113781</td>\n",
       "      <td>151.5500</td>\n",
       "      <td>C22</td>\n",
       "      <td>S</td>\n",
       "      <td>NaN</td>\n",
       "      <td>NaN</td>\n",
       "      <td>Montreal, PQ / Chesterville, ON</td>\n",
       "    </tr>\n",
       "    <tr>\n",
       "      <th>3</th>\n",
       "      <td>1</td>\n",
       "      <td>0</td>\n",
       "      <td>Allison, Mr. Hudson Joshua Creighton</td>\n",
       "      <td>male</td>\n",
       "      <td>30.0000</td>\n",
       "      <td>1</td>\n",
       "      <td>2</td>\n",
       "      <td>113781</td>\n",
       "      <td>151.5500</td>\n",
       "      <td>C22</td>\n",
       "      <td>S</td>\n",
       "      <td>NaN</td>\n",
       "      <td>135.0</td>\n",
       "      <td>Montreal, PQ / Chesterville, ON</td>\n",
       "    </tr>\n",
       "    <tr>\n",
       "      <th>4</th>\n",
       "      <td>1</td>\n",
       "      <td>0</td>\n",
       "      <td>Allison, Mrs. Hudson J C (Bessie Waldo Daniels)</td>\n",
       "      <td>female</td>\n",
       "      <td>25.0000</td>\n",
       "      <td>1</td>\n",
       "      <td>2</td>\n",
       "      <td>113781</td>\n",
       "      <td>151.5500</td>\n",
       "      <td>C22</td>\n",
       "      <td>S</td>\n",
       "      <td>NaN</td>\n",
       "      <td>NaN</td>\n",
       "      <td>Montreal, PQ / Chesterville, ON</td>\n",
       "    </tr>\n",
       "  </tbody>\n",
       "</table>\n",
       "</div>"
      ],
      "text/plain": [
       "   pclass  survived                                             name     sex  \\\n",
       "0       1         1                    Allen, Miss. Elisabeth Walton  female   \n",
       "1       1         1                   Allison, Master. Hudson Trevor    male   \n",
       "2       1         0                     Allison, Miss. Helen Loraine  female   \n",
       "3       1         0             Allison, Mr. Hudson Joshua Creighton    male   \n",
       "4       1         0  Allison, Mrs. Hudson J C (Bessie Waldo Daniels)  female   \n",
       "\n",
       "       age  sibsp  parch  ticket      fare cabin embarked boat   body  \\\n",
       "0  29.0000      0      0   24160  211.3375    B5        S    2    NaN   \n",
       "1   0.9167      1      2  113781  151.5500   C22        S   11    NaN   \n",
       "2   2.0000      1      2  113781  151.5500   C22        S  NaN    NaN   \n",
       "3  30.0000      1      2  113781  151.5500   C22        S  NaN  135.0   \n",
       "4  25.0000      1      2  113781  151.5500   C22        S  NaN    NaN   \n",
       "\n",
       "                         home.dest  \n",
       "0                     St Louis, MO  \n",
       "1  Montreal, PQ / Chesterville, ON  \n",
       "2  Montreal, PQ / Chesterville, ON  \n",
       "3  Montreal, PQ / Chesterville, ON  \n",
       "4  Montreal, PQ / Chesterville, ON  "
      ]
     },
     "execution_count": 3,
     "metadata": {},
     "output_type": "execute_result"
    }
   ],
   "source": [
    "# Cargamos los datos del Titanic\n",
    "data = pd.read_csv('../titanic.csv')\n",
    "\n",
    "# Inspeccionemos las primeras 5 filas\n",
    "data.head()"
   ]
  },
  {
   "cell_type": "code",
   "execution_count": 4,
   "id": "abcb8c8d",
   "metadata": {},
   "outputs": [
    {
     "data": {
      "text/plain": [
       "pclass          0\n",
       "survived        0\n",
       "name            0\n",
       "sex             0\n",
       "age           263\n",
       "sibsp           0\n",
       "parch           0\n",
       "ticket          0\n",
       "fare            1\n",
       "cabin        1014\n",
       "embarked        2\n",
       "boat          823\n",
       "body         1188\n",
       "home.dest     564\n",
       "dtype: int64"
      ]
     },
     "execution_count": 4,
     "metadata": {},
     "output_type": "execute_result"
    }
   ],
   "source": [
    "# Podemos cuantificar el número total de valores nulos usando el método isnull \n",
    "\n",
    "data.isnull().sum()"
   ]
  },
  {
   "cell_type": "markdown",
   "id": "6ded8704",
   "metadata": {},
   "source": [
    "Podemos observar que hay 263 valores null para la variable **age**, 1014 para la variable **cabin**, 2 par la variable **embarked**"
   ]
  },
  {
   "cell_type": "code",
   "execution_count": 5,
   "id": "936a3cf9",
   "metadata": {},
   "outputs": [
    {
     "data": {
      "text/plain": [
       "pclass        0.000000\n",
       "survived      0.000000\n",
       "name          0.000000\n",
       "sex           0.000000\n",
       "age          20.091673\n",
       "sibsp         0.000000\n",
       "parch         0.000000\n",
       "ticket        0.000000\n",
       "fare          0.076394\n",
       "cabin        77.463713\n",
       "embarked      0.152788\n",
       "boat         62.872422\n",
       "body         90.756303\n",
       "home.dest    43.086325\n",
       "dtype: float64"
      ]
     },
     "execution_count": 5,
     "metadata": {},
     "output_type": "execute_result"
    }
   ],
   "source": [
    "# También podemos usar el método 'mean' para visualizar el porcentage de los valores faltantes  por cada variable\n",
    "\n",
    "data.isnull().mean()*100"
   ]
  },
  {
   "cell_type": "markdown",
   "id": "2f895c7e",
   "metadata": {},
   "source": [
    " Age (20% faltantes), Cabin (77% faltantes),  Embarked  (0.2%  faltantes).\n",
    " "
   ]
  },
  {
   "cell_type": "markdown",
   "id": "6e429f02",
   "metadata": {},
   "source": [
    "## Mecanismos de datos Faltantes\n",
    "\n",
    "### Valores Faltantes No Aleatorios, MNAR ('Missing Data not at Random')\n",
    "\n",
    "Los valores faltantes no son aleatorios (MNAR) cuando hay un mecanismo o una razón por la cual los valores faltantes son introducidos en los dato"
   ]
  },
  {
   "cell_type": "markdown",
   "id": "ee8d0574",
   "metadata": {},
   "source": [
    "En los datos del Titanic, los valores faltantes de las variables Cabin y Age fueron introducidos sistemáticamente. Para muchos de los pasajeros que no sobrevivieron, la edad ('Age') que tenían o la cabina ('Cabin') en la que estaban viajando, no pudo ser establecida. A la gente que sobrevivió, por el contrario, se les pudo preguntar dicha información."
   ]
  },
  {
   "cell_type": "markdown",
   "id": "0df2f0e0",
   "metadata": {},
   "source": [
    "Evaluemos el porcentaje de los valores faltantes en la cabina por los pasajeros que sobrevivieron vs. los que no sobrevivieron\n",
    "La variable **'Survived'** toma valores de 1 si el pasajero sobrevivió y 0 de lo contrario.\n",
    "Agruparermos los datos para Sobrevivientes vs No-Sobrevivientes"
   ]
  },
  {
   "cell_type": "code",
   "execution_count": 6,
   "id": "b557303c",
   "metadata": {},
   "outputs": [
    {
     "data": {
      "text/plain": [
       "survived\n",
       "0    0.873918\n",
       "1    0.614000\n",
       "Name: cabin, dtype: float64"
      ]
     },
     "execution_count": 6,
     "metadata": {},
     "output_type": "execute_result"
    }
   ],
   "source": [
    "data['cabin'].isnull().groupby(data['survived']).mean()"
   ]
  },
  {
   "cell_type": "markdown",
   "id": "e3a7f5f0",
   "metadata": {},
   "source": [
    "Podemos ver que el porcentaje de valores faltantes es mucho más alto para las personas que no sobrevivieron (87%), con respecto a los que sobrevivieron (60%). Este hallazgo está alineado con nuestra hipótesis sobre los datos faltantes.\n",
    "\n",
    "**Nota:** Para realmente entender si los valores faltantes no son aleatorios, es necesario familiarizarse muy bien con la forma en que los datos fueron recogidos. Analizar los datos, solo puede llevarnos a la dirección correcta o ayudarnos a construir hipótesis."
   ]
  },
  {
   "cell_type": "markdown",
   "id": "5c8b4bcd",
   "metadata": {},
   "source": [
    "**Revisemos la variable Age**"
   ]
  },
  {
   "cell_type": "code",
   "execution_count": 7,
   "id": "1e8b27cf",
   "metadata": {},
   "outputs": [
    {
     "data": {
      "text/plain": [
       "survived\n",
       "0    0.234858\n",
       "1    0.146000\n",
       "Name: age, dtype: float64"
      ]
     },
     "execution_count": 7,
     "metadata": {},
     "output_type": "execute_result"
    }
   ],
   "source": [
    "data['age'].isnull().groupby(data['survived']).mean()"
   ]
  },
  {
   "cell_type": "markdown",
   "id": "ccb944e8",
   "metadata": {},
   "source": [
    "Nuevamente podemos observar un porcentaje mayor de datos faltantes para los pasajeros que no sobrevivieron. Este análisis sugiere que hay una pérdida de datos sistemática: la gente que no sobrevivió tiende a tener más datos nulos. \n",
    "Probablemente, el método seleccionado para recoger la información, contribuye a la generación de los datos faltantes."
   ]
  },
  {
   "cell_type": "markdown",
   "id": "6fd48804",
   "metadata": {},
   "source": [
    "### Datos Faltantes Completamente Aleatorios- MCAR (Missing Data Completely at Random)\n",
    "\n",
    "Cuando los datos son de tipo MCAR significa que la falta de datos no está relacionada con ningún otro valor observado o no observado. En otras palabras, la probabilidad de que un valor falte es igual para todos los casos, independientemente de cualquier otra característica o valor en los datos. "
   ]
  },
  {
   "cell_type": "markdown",
   "id": "fe84ad33",
   "metadata": {},
   "source": [
    "Tomemos un segmento del dataframe con solo las observaciones con datos faltantes para la variable Embarked"
   ]
  },
  {
   "cell_type": "code",
   "execution_count": 10,
   "id": "88602528",
   "metadata": {},
   "outputs": [
    {
     "data": {
      "text/html": [
       "<div>\n",
       "<style scoped>\n",
       "    .dataframe tbody tr th:only-of-type {\n",
       "        vertical-align: middle;\n",
       "    }\n",
       "\n",
       "    .dataframe tbody tr th {\n",
       "        vertical-align: top;\n",
       "    }\n",
       "\n",
       "    .dataframe thead th {\n",
       "        text-align: right;\n",
       "    }\n",
       "</style>\n",
       "<table border=\"1\" class=\"dataframe\">\n",
       "  <thead>\n",
       "    <tr style=\"text-align: right;\">\n",
       "      <th></th>\n",
       "      <th>pclass</th>\n",
       "      <th>survived</th>\n",
       "      <th>name</th>\n",
       "      <th>sex</th>\n",
       "      <th>age</th>\n",
       "      <th>sibsp</th>\n",
       "      <th>parch</th>\n",
       "      <th>ticket</th>\n",
       "      <th>fare</th>\n",
       "      <th>cabin</th>\n",
       "      <th>embarked</th>\n",
       "      <th>boat</th>\n",
       "      <th>body</th>\n",
       "      <th>home.dest</th>\n",
       "    </tr>\n",
       "  </thead>\n",
       "  <tbody>\n",
       "    <tr>\n",
       "      <th>168</th>\n",
       "      <td>1</td>\n",
       "      <td>1</td>\n",
       "      <td>Icard, Miss. Amelie</td>\n",
       "      <td>female</td>\n",
       "      <td>38.0</td>\n",
       "      <td>0</td>\n",
       "      <td>0</td>\n",
       "      <td>113572</td>\n",
       "      <td>80.0</td>\n",
       "      <td>B28</td>\n",
       "      <td>NaN</td>\n",
       "      <td>6</td>\n",
       "      <td>NaN</td>\n",
       "      <td>NaN</td>\n",
       "    </tr>\n",
       "    <tr>\n",
       "      <th>284</th>\n",
       "      <td>1</td>\n",
       "      <td>1</td>\n",
       "      <td>Stone, Mrs. George Nelson (Martha Evelyn)</td>\n",
       "      <td>female</td>\n",
       "      <td>62.0</td>\n",
       "      <td>0</td>\n",
       "      <td>0</td>\n",
       "      <td>113572</td>\n",
       "      <td>80.0</td>\n",
       "      <td>B28</td>\n",
       "      <td>NaN</td>\n",
       "      <td>6</td>\n",
       "      <td>NaN</td>\n",
       "      <td>Cincinatti, OH</td>\n",
       "    </tr>\n",
       "  </tbody>\n",
       "</table>\n",
       "</div>"
      ],
      "text/plain": [
       "     pclass  survived                                       name     sex  \\\n",
       "168       1         1                        Icard, Miss. Amelie  female   \n",
       "284       1         1  Stone, Mrs. George Nelson (Martha Evelyn)  female   \n",
       "\n",
       "      age  sibsp  parch  ticket  fare cabin embarked boat  body  \\\n",
       "168  38.0      0      0  113572  80.0   B28      NaN    6   NaN   \n",
       "284  62.0      0      0  113572  80.0   B28      NaN    6   NaN   \n",
       "\n",
       "          home.dest  \n",
       "168             NaN  \n",
       "284  Cincinatti, OH  "
      ]
     },
     "execution_count": 10,
     "metadata": {},
     "output_type": "execute_result"
    }
   ],
   "source": [
    "\n",
    "data[data.embarked.isnull()]"
   ]
  },
  {
   "cell_type": "markdown",
   "id": "037befb2",
   "metadata": {},
   "source": [
    "Estas dos mujeres viajaban juntas, Miss Icard era la mucama de Mrs Stone. No hay indicios de que los valores nulos de la variable **\"embarked\"** dependan de ninguna otra variable. Además, dado que ambas mujeres sobrevivieron al naufragio, se podría suponer que podrían haber proporcionado esta información. Sin embargo, es probable que los valores se hayan perdido al momento de crear los datos. En otras palabras, si los valores son MCAR, la probabilidad de que faltaran los datos para estas dos mujeres es la misma que para cualquier otra persona en el Titanic. Aunque esta hipótesis puede ser difícil de comprobar, al menos nos sirve como un ejemplo de variables MCAR."
   ]
  },
  {
   "cell_type": "markdown",
   "id": "62fd7db6",
   "metadata": {},
   "source": [
    "### Valores Faltantes Aleatorios MAR ('Missing Data at Random')\n",
    "\n",
    "Ocurre cuando hay una relación entre la probabilidad de ocurrencia de los datos faltantes y los valores existentes. En otras palabras, la probabilidad de que una observación falte depende de la disponibilidad de la información (es decir, de otras variables en los datos)."
   ]
  },
  {
   "cell_type": "markdown",
   "id": "d41938b3",
   "metadata": {},
   "source": [
    "Para este ejemplo, usaremos los datos loan. Vamos a explorar la variable ocupacion (employment) y los años que lleva empleado (time_employed), ambos declarados por los prestamistas en el momento de aplicación para un préstamo.\n",
    "\n",
    "En este ejemplo, los valores faltantes en employment estan asociados con los valores faltantes en time_employed."
   ]
  },
  {
   "cell_type": "code",
   "execution_count": 11,
   "id": "aaeeec44",
   "metadata": {},
   "outputs": [
    {
     "data": {
      "text/html": [
       "<div>\n",
       "<style scoped>\n",
       "    .dataframe tbody tr th:only-of-type {\n",
       "        vertical-align: middle;\n",
       "    }\n",
       "\n",
       "    .dataframe tbody tr th {\n",
       "        vertical-align: top;\n",
       "    }\n",
       "\n",
       "    .dataframe thead th {\n",
       "        text-align: right;\n",
       "    }\n",
       "</style>\n",
       "<table border=\"1\" class=\"dataframe\">\n",
       "  <thead>\n",
       "    <tr style=\"text-align: right;\">\n",
       "      <th></th>\n",
       "      <th>employment</th>\n",
       "      <th>time_employed</th>\n",
       "    </tr>\n",
       "  </thead>\n",
       "  <tbody>\n",
       "    <tr>\n",
       "      <th>0</th>\n",
       "      <td>Teacher</td>\n",
       "      <td>&lt;=5 years</td>\n",
       "    </tr>\n",
       "    <tr>\n",
       "      <th>1</th>\n",
       "      <td>Accountant</td>\n",
       "      <td>&lt;=5 years</td>\n",
       "    </tr>\n",
       "    <tr>\n",
       "      <th>2</th>\n",
       "      <td>Statistician</td>\n",
       "      <td>&lt;=5 years</td>\n",
       "    </tr>\n",
       "    <tr>\n",
       "      <th>3</th>\n",
       "      <td>Other</td>\n",
       "      <td>&lt;=5 years</td>\n",
       "    </tr>\n",
       "    <tr>\n",
       "      <th>4</th>\n",
       "      <td>Bus driver</td>\n",
       "      <td>&gt;5 years</td>\n",
       "    </tr>\n",
       "  </tbody>\n",
       "</table>\n",
       "</div>"
      ],
      "text/plain": [
       "     employment time_employed\n",
       "0       Teacher     <=5 years\n",
       "1    Accountant     <=5 years\n",
       "2  Statistician     <=5 years\n",
       "3         Other     <=5 years\n",
       "4    Bus driver      >5 years"
      ]
     },
     "execution_count": 11,
     "metadata": {},
     "output_type": "execute_result"
    }
   ],
   "source": [
    "data = pd.read_csv('../loan.csv', usecols=['employment', 'time_employed'])\n",
    "\n",
    "data.head()"
   ]
  },
  {
   "cell_type": "code",
   "execution_count": 12,
   "id": "fd6fa76a",
   "metadata": {},
   "outputs": [
    {
     "data": {
      "text/plain": [
       "employment       0.0611\n",
       "time_employed    0.0529\n",
       "dtype: float64"
      ]
     },
     "execution_count": 12,
     "metadata": {},
     "output_type": "execute_result"
    }
   ],
   "source": [
    "# Revisamos el porcentaje de datos faltantes\n",
    "\n",
    "data.isnull().mean()"
   ]
  },
  {
   "cell_type": "markdown",
   "id": "9a9a8a2b",
   "metadata": {},
   "source": [
    "Aldedor del 6%  contienen datos faltantes para ambras variables."
   ]
  },
  {
   "cell_type": "code",
   "execution_count": 21,
   "id": "1648e742",
   "metadata": {},
   "outputs": [
    {
     "name": "stdout",
     "output_type": "stream",
     "text": [
      "'Número de los diferentes empleos: 12\n"
     ]
    },
    {
     "data": {
      "text/plain": [
       "array(['Teacher', 'Accountant', 'Statistician', 'Other', 'Bus driver',\n",
       "       'Secretary', 'Software developer', 'Nurse', 'Taxi driver', nan,\n",
       "       'Civil Servant', 'Dentist'], dtype=object)"
      ]
     },
     "execution_count": 21,
     "metadata": {},
     "output_type": "execute_result"
    }
   ],
   "source": [
    "# Miremos los valores de los diferentes empleos\n",
    "\n",
    "# Número de los diferentes empleos:\n",
    "print(f\"'Número de los diferentes empleos: {len(data['employment'].unique())}\")\n",
    "\n",
    "# Veamos unos ejemplos:\n",
    "data['employment'].unique()"
   ]
  },
  {
   "cell_type": "code",
   "execution_count": 22,
   "id": "57017040",
   "metadata": {},
   "outputs": [
    {
     "data": {
      "text/plain": [
       "array(['<=5 years', '>5 years', nan], dtype=object)"
      ]
     },
     "execution_count": 22,
     "metadata": {},
     "output_type": "execute_result"
    }
   ],
   "source": [
    "# Veamos la variable time_employed\n",
    "\n",
    "data['time_employed'].unique()"
   ]
  },
  {
   "cell_type": "markdown",
   "id": "8d147e9f",
   "metadata": {},
   "source": [
    "El cliente no puede introducir un valor para el tiempo de empleo si no está empleado. Pueden ser estudiantes, jubilados, trabajadores autónomos o trabajar en la casa. Pero vemos cómo estas 2 variables están relacionadas entre sí."
   ]
  },
  {
   "cell_type": "code",
   "execution_count": 25,
   "id": "60ac46bf",
   "metadata": {},
   "outputs": [
    {
     "data": {
      "text/plain": [
       "0.0005325380764724678"
      ]
     },
     "execution_count": 25,
     "metadata": {},
     "output_type": "execute_result"
    }
   ],
   "source": [
    "# Calculemos la proporción de datos que faltan para la variable time_employed\n",
    "# para los clientes que declararon el empleo\n",
    "\n",
    "# filtramos en donde empleado no es null\n",
    "t = data[~data['employment'].isnull()]\n",
    "\n",
    "# porcentaje de datos faltantes en el tiempo empleado\n",
    "t['time_employed'].isnull().mean()\n"
   ]
  },
  {
   "cell_type": "code",
   "execution_count": 27,
   "id": "76ed56a0",
   "metadata": {},
   "outputs": [
    {
     "data": {
      "text/plain": [
       "0.8576104746317512"
      ]
     },
     "execution_count": 27,
     "metadata": {},
     "output_type": "execute_result"
    }
   ],
   "source": [
    "# Hagamos lo mismo para los que no lo hicieron... \n",
    "\n",
    "\n",
    "# clientes que no declararon el empleo null\n",
    "t = data[data['employment'].isnull()]\n",
    "\n",
    "# porcentaje de datos faltantes en el tiempo empleado\n",
    "t['time_employed'].isnull().mean()"
   ]
  },
  {
   "cell_type": "markdown",
   "id": "bde191d8",
   "metadata": {},
   "source": [
    "El número de registros que han informado de la ocupación y tienen valores perdidos en time_employed es mínimo. Mientras que los clientes que no reportaron una ocupación o empleo, están reportando mayormente valores faltantes en la variable time_employed\n",
    "\n",
    "Esto apoya aún más que los valores que faltan en el empleo están relacionados con los valores que faltan en time_employed."
   ]
  }
 ],
 "metadata": {
  "kernelspec": {
   "display_name": "Python 3 (ipykernel)",
   "language": "python",
   "name": "python3"
  },
  "language_info": {
   "codemirror_mode": {
    "name": "ipython",
    "version": 3
   },
   "file_extension": ".py",
   "mimetype": "text/x-python",
   "name": "python",
   "nbconvert_exporter": "python",
   "pygments_lexer": "ipython3",
   "version": "3.9.7"
  }
 },
 "nbformat": 4,
 "nbformat_minor": 5
}
